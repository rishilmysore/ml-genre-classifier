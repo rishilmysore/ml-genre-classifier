{
  "nbformat": 4,
  "nbformat_minor": 0,
  "metadata": {
    "colab": {
      "provenance": []
    },
    "kernelspec": {
      "name": "python3",
      "display_name": "Python 3"
    },
    "language_info": {
      "name": "python"
    }
  },
  "cells": [
    {
      "cell_type": "markdown",
      "source": [
        "**Music Genre Classification using CNN**"
      ],
      "metadata": {
        "id": "N7Cw1UGLh4vf"
      }
    },
    {
      "cell_type": "code",
      "execution_count": null,
      "metadata": {
        "id": "Zesa0F7oRZt0"
      },
      "outputs": [],
      "source": [
        "# Arrays\n",
        "import numpy as np\n",
        "\n",
        "# Everything audio file related\n",
        "import librosa, librosa.display\n",
        "\n",
        "# Visualization\n",
        "import matplotlib.pyplot as plt\n",
        "\n",
        "# For file management\n",
        "import os\n",
        "\n",
        "# ceil() function\n",
        "import math"
      ]
    },
    {
      "cell_type": "code",
      "source": [
        "# Function for splitting dataset\n",
        "from sklearn.model_selection import train_test_split\n",
        "\n",
        "import tensorflow.keras as keras\n",
        "\n",
        "import tensorflow as tf\n",
        "\n",
        "from tensorflow.keras import datasets, layers, models\n"
      ],
      "metadata": {
        "id": "ixdmlt_S1Ob-"
      },
      "execution_count": null,
      "outputs": []
    },
    {
      "cell_type": "code",
      "source": [
        "from keras.models import Sequential  \n",
        "from keras.layers import Dense, Dropout, Activation, Flatten \n",
        "from keras.layers import Convolution2D, MaxPooling2D \n",
        "from keras.utils import np_utils"
      ],
      "metadata": {
        "id": "rxQt3bwk1ikx"
      },
      "execution_count": null,
      "outputs": []
    },
    {
      "cell_type": "code",
      "source": [
        "# GTZAN Dataset located in Google Drive\n",
        "from google.colab import drive\n",
        "drive.mount('/content/drive')\n"
      ],
      "metadata": {
        "colab": {
          "base_uri": "https://localhost:8080/"
        },
        "id": "tbJUCS8jRgNd",
        "outputId": "460d7d3d-9f74-4888-f2cb-9dc0b070f3bd"
      },
      "execution_count": null,
      "outputs": [
        {
          "output_type": "stream",
          "name": "stdout",
          "text": [
            "Mounted at /content/drive\n"
          ]
        }
      ]
    },
    {
      "cell_type": "markdown",
      "source": [
        "**Step 1: Create MFCC files from the audio files.**\n",
        "\n"
      ],
      "metadata": {
        "id": "J8ODrt3i39C8"
      }
    },
    {
      "cell_type": "markdown",
      "source": [
        "Variables related to audio files and MFCC parameters."
      ],
      "metadata": {
        "id": "CYlD5zvxjACH"
      }
    },
    {
      "cell_type": "code",
      "source": [
        "dataPath = \"/content/drive/MyDrive/genres_original\"\n",
        "sampleRate = 22050 # (Hz)\n",
        "trackLength = 30 # (second)\n",
        "numMFCC = 20    # Number of MFCC for each audio file segment.\n",
        "nFFT = 2048     # Length of the FFT window\n",
        "hopLength = 512 # Number of samples between each frame.\n",
        "segments = 13   # Number of segments for dividing audio file.\n",
        "samplePerSeg = int(661500 / segments)\n",
        "mfccPerSeg = math.ceil(samplePerSeg / hopLength)"
      ],
      "metadata": {
        "id": "52P3hw1BSrs8"
      },
      "execution_count": null,
      "outputs": []
    },
    {
      "cell_type": "markdown",
      "source": [
        "We save and load the MFCC files in a numpy array for further processing."
      ],
      "metadata": {
        "id": "tZvFmLJq4Cup"
      }
    },
    {
      "cell_type": "code",
      "source": [
        "# Dict for converting non-numeric feature into a numeric feature.\n",
        "genreToNum = {\n",
        "      \"blues\":0,\n",
        "      \"classical\":1,\n",
        "      \"country\":2,\n",
        "      \"disco\":3,\n",
        "      \"hiphop\":4,\n",
        "      \"jazz\" :5,\n",
        "      \"metal\" :6,\n",
        "      \"pop\" :7,\n",
        "      \"reggae\" :8,\n",
        "      \"rock\" :9\n",
        "  }\n",
        "\n",
        "# Initialize output variables\n",
        "XasList = []\n",
        "y = np.array([]);\n",
        "\n",
        "# Go through genre files\n",
        "for subdir, dirs, files in os.walk(dataPath):\n",
        "\n",
        "      # Go through audio files\n",
        "      for file in files:\n",
        "\n",
        "          # Get the genre name from current folder.\n",
        "          currentGenre = subdir.split(\"/\")[-1]\n",
        "          currentGenreNum = genreToNum[currentGenre]\n",
        "          \n",
        "          # Load audio file using librosa.\n",
        "          currentFile = os.path.join(subdir, file)\n",
        "          currentAudio,sampleRate = librosa.load(currentFile, sr=sampleRate)\n",
        "          \n",
        "          # Go through one audio file\n",
        "          for i in range(segments):\n",
        "\n",
        "            # Print which audio file is currently being worked on.\n",
        "            printMessage = f'Working on: {currentFile.split(\"/\")[6]} Segment {i}'\n",
        "            print(printMessage)\n",
        "\n",
        "            # Calculate the start and finish points of segments.\n",
        "            start = samplePerSeg * i\n",
        "            finish = start + samplePerSeg\n",
        "\n",
        "            # Calculate mfcc of audio segment.\n",
        "            mfcc = librosa.feature.mfcc(currentAudio[start:finish], sampleRate, n_mfcc=numMFCC, n_fft=nFFT, hop_length=hopLength)\n",
        "            mfcc = mfcc.T\n",
        "\n",
        "            # Add MFCC to data only if the mfcc vector length are good\n",
        "            \n",
        "            if mfcc.shape[0] == mfccPerSeg:\n",
        "              XasList.append(mfcc.tolist())\n",
        "              y = np.append(y,currentGenreNum)\n",
        "# Convert python list to numpy array\n",
        "X = np.array(XasList)"
      ],
      "metadata": {
        "id": "SULRQKQSSdbz"
      },
      "execution_count": null,
      "outputs": []
    },
    {
      "cell_type": "markdown",
      "source": [
        "Save the X and y numpy arrays as .npy files for convenience:"
      ],
      "metadata": {
        "id": "jaVJG_s7zE0E"
      }
    },
    {
      "cell_type": "code",
      "source": [
        "np.save(\"mfcc_y_values\", y)\n",
        "np.save(\"mfcc_values\", X)"
      ],
      "metadata": {
        "id": "gPHEZ_T8C3VN"
      },
      "execution_count": null,
      "outputs": []
    },
    {
      "cell_type": "markdown",
      "source": [
        "Load .npy files to numpy arrays:"
      ],
      "metadata": {
        "id": "oQUDdVHBzQma"
      }
    },
    {
      "cell_type": "code",
      "source": [
        "loadedX = np.load('mfcc_values.npy')\n",
        "loadedY = np.load('mfcc_y_values.npy')"
      ],
      "metadata": {
        "id": "hVQ5R2WgEZ29"
      },
      "execution_count": null,
      "outputs": []
    },
    {
      "cell_type": "markdown",
      "source": [
        "Now all the MFCC arrays are stored in loadedX:\n",
        "\n",
        "\n",
        "\n",
        "1.   First dimension is the number of mfcc images.\n",
        "2.   Second dimension is the length of mfcc vector.\n",
        "3.   Third dimension is the number of mfcc variables.\n",
        "\n",
        "\n",
        "\n",
        "\n",
        "\n"
      ],
      "metadata": {
        "id": "SMUTEcCzzgN7"
      }
    },
    {
      "cell_type": "code",
      "source": [
        "loadedX.shape"
      ],
      "metadata": {
        "colab": {
          "base_uri": "https://localhost:8080/"
        },
        "id": "qD7HsSqBEg8Z",
        "outputId": "44e8b6b1-409b-407e-8bef-c31560f95d07"
      },
      "execution_count": null,
      "outputs": [
        {
          "output_type": "execute_result",
          "data": {
            "text/plain": [
              "(12998, 100, 20)"
            ]
          },
          "metadata": {},
          "execution_count": 9
        }
      ]
    },
    {
      "cell_type": "markdown",
      "source": [
        "Their corresponding classes are stored in loadedY:\n",
        "The size of this array is the number of mfcc images."
      ],
      "metadata": {
        "id": "FSd2bksTzm-z"
      }
    },
    {
      "cell_type": "code",
      "source": [
        "loadedY.shape"
      ],
      "metadata": {
        "colab": {
          "base_uri": "https://localhost:8080/"
        },
        "id": "-uT5JyzxiFqt",
        "outputId": "65b05dfd-66e4-4e6d-a0eb-52bccf25db11"
      },
      "execution_count": null,
      "outputs": [
        {
          "output_type": "execute_result",
          "data": {
            "text/plain": [
              "(12998,)"
            ]
          },
          "metadata": {},
          "execution_count": 10
        }
      ]
    },
    {
      "cell_type": "markdown",
      "source": [
        "---\n",
        "Split validation, train and test set as:\n",
        "\n",
        "\n",
        "\n",
        "1.   60 % Train set\n",
        "2.   20 % Test set\n",
        "3.   20 % Validation set\n",
        "\n"
      ],
      "metadata": {
        "id": "2MmC1Yhgi8bk"
      }
    },
    {
      "cell_type": "code",
      "source": [
        "from sklearn.preprocessing import scale"
      ],
      "metadata": {
        "id": "VwxgjLqFDyWi"
      },
      "execution_count": null,
      "outputs": []
    },
    {
      "cell_type": "code",
      "source": [
        "# Split dataset into train test and validation set.\n",
        "X_train, X_test, y_train, y_test = train_test_split(loadedX, loadedY, test_size=0.2)\n",
        "X_train, X_validation, y_train, y_validation = train_test_split(X_train, y_train, test_size=0.25)"
      ],
      "metadata": {
        "id": "vuHH_yJySBHA"
      },
      "execution_count": null,
      "outputs": []
    },
    {
      "cell_type": "code",
      "source": [
        "# Add one axis representing the grayscale channel.\n",
        "X_train = X_train[..., np.newaxis]\n",
        "X_test = X_test[..., np.newaxis]\n",
        "X_validation = X_validation[..., np.newaxis]"
      ],
      "metadata": {
        "id": "I4_Z6qh0FHdq"
      },
      "execution_count": null,
      "outputs": []
    },
    {
      "cell_type": "code",
      "source": [
        "X_train.shape"
      ],
      "metadata": {
        "colab": {
          "base_uri": "https://localhost:8080/"
        },
        "id": "6yDwMiK2iNWM",
        "outputId": "14a31592-cf17-425d-a36e-dac839d4350a"
      },
      "execution_count": null,
      "outputs": [
        {
          "output_type": "execute_result",
          "data": {
            "text/plain": [
              "(7798, 100, 20, 1)"
            ]
          },
          "metadata": {},
          "execution_count": 14
        }
      ]
    },
    {
      "cell_type": "markdown",
      "source": [
        "Let's inspect one image, representing the mfcc values in one segment from the train set:"
      ],
      "metadata": {
        "id": "JuxjDLTI6QCC"
      }
    },
    {
      "cell_type": "code",
      "source": [
        "X_trainExample = X_train[0,:, :, 0]\n",
        "X_trainExample = X_trainExample.T\n",
        "\n",
        "plt.figure(figsize=(10,5))\n",
        "librosa.display.specshow(X_trainExample, sr=sampleRate, hop_length=hopLength)\n",
        "plt.xlabel(\"Time\")\n",
        "plt.ylabel(\"MFCC\")\n",
        "plt.title(\"Example from train set:\")"
      ],
      "metadata": {
        "colab": {
          "base_uri": "https://localhost:8080/",
          "height": 351
        },
        "id": "4AGFTjW66ukw",
        "outputId": "bf4446a9-60c7-4949-d670-4e56a98b7bc5"
      },
      "execution_count": null,
      "outputs": [
        {
          "output_type": "execute_result",
          "data": {
            "text/plain": [
              "Text(0.5, 1.0, 'Example from train set:')"
            ]
          },
          "metadata": {},
          "execution_count": 15
        },
        {
          "output_type": "display_data",
          "data": {
            "text/plain": [
              "<Figure size 720x360 with 1 Axes>"
            ],
            "image/png": "[encoded data removed]"
          },
          "metadata": {}
        }
      ]
    },
    {
      "cell_type": "code",
      "source": [
        "model = models.Sequential()\n",
        "\n",
        "#Layer 1\n",
        "model.add(Convolution2D(32, (3, 3), activation='relu', input_shape=(X_train.shape[1], X_train.shape[2], 1)))\n",
        "model.add(MaxPooling2D(pool_size=(2, 2), strides = (2,2) , padding = 'same'))\n",
        "model.add(keras.layers.BatchNormalization())\n",
        "\n",
        "model.add(keras.layers.Dropout(.4))\n",
        "\n",
        "#Layer 2\n",
        "model.add(Convolution2D(64, (3, 3),activation='relu'))\n",
        "model.add(MaxPooling2D(pool_size=(3,3), strides = (2,2) , padding = 'same'))\n",
        "model.add(keras.layers.BatchNormalization())\n",
        "\n",
        "model.add(keras.layers.Dropout(.4))\n",
        "\n",
        "#Layer 3\n",
        "model.add(Convolution2D(128, (2, 2), activation='relu'))\n",
        "model.add(MaxPooling2D(pool_size=(2, 2), strides = (2,2) , padding = 'same'))\n",
        "model.add(keras.layers.BatchNormalization())\n",
        "\n",
        "model.add(keras.layers.Dropout(.5))\n",
        "\n",
        "model.add(Flatten())\n",
        "model.add(keras.layers.Dropout(.5))\n",
        "model.add(Dense(64, activation='relu'))\n",
        "model.add(Dense(10, activation = 'softmax'))\n",
        "\n"
      ],
      "metadata": {
        "id": "jSM2jbU6TB4w"
      },
      "execution_count": null,
      "outputs": []
    },
    {
      "cell_type": "code",
      "source": [
        "model.summary()"
      ],
      "metadata": {
        "colab": {
          "base_uri": "https://localhost:8080/"
        },
        "id": "5GRXbH9uTbE3",
        "outputId": "205a0e06-0556-494f-9db8-4e8c66424a30"
      },
      "execution_count": null,
      "outputs": [
        {
          "output_type": "stream",
          "name": "stdout",
          "text": [
            "Model: \"sequential\"\n",
            "_________________________________________________________________\n",
            " Layer (type)                Output Shape              Param #   \n",
            "=================================================================\n",
            " conv2d (Conv2D)             (None, 98, 18, 32)        320       \n",
            "                                                                 \n",
            " max_pooling2d (MaxPooling2D  (None, 49, 9, 32)        0         \n",
            " )                                                               \n",
            "                                                                 \n",
            " batch_normalization (BatchN  (None, 49, 9, 32)        128       \n",
            " ormalization)                                                   \n",
            "                                                                 \n",
            " dropout (Dropout)           (None, 49, 9, 32)         0         \n",
            "                                                                 \n",
            " conv2d_1 (Conv2D)           (None, 47, 7, 64)         18496     \n",
            "                                                                 \n",
            " max_pooling2d_1 (MaxPooling  (None, 24, 4, 64)        0         \n",
            " 2D)                                                             \n",
            "                                                                 \n",
            " batch_normalization_1 (Batc  (None, 24, 4, 64)        256       \n",
            " hNormalization)                                                 \n",
            "                                                                 \n",
            " dropout_1 (Dropout)         (None, 24, 4, 64)         0         \n",
            "                                                                 \n",
            " conv2d_2 (Conv2D)           (None, 23, 3, 128)        32896     \n",
            "                                                                 \n",
            " max_pooling2d_2 (MaxPooling  (None, 12, 2, 128)       0         \n",
            " 2D)                                                             \n",
            "                                                                 \n",
            " batch_normalization_2 (Batc  (None, 12, 2, 128)       512       \n",
            " hNormalization)                                                 \n",
            "                                                                 \n",
            " dropout_2 (Dropout)         (None, 12, 2, 128)        0         \n",
            "                                                                 \n",
            " flatten (Flatten)           (None, 3072)              0         \n",
            "                                                                 \n",
            " dropout_3 (Dropout)         (None, 3072)              0         \n",
            "                                                                 \n",
            " dense (Dense)               (None, 64)                196672    \n",
            "                                                                 \n",
            " dense_1 (Dense)             (None, 10)                650       \n",
            "                                                                 \n",
            "=================================================================\n",
            "Total params: 249,930\n",
            "Trainable params: 249,482\n",
            "Non-trainable params: 448\n",
            "_________________________________________________________________\n"
          ]
        }
      ]
    },
    {
      "cell_type": "code",
      "source": [
        "from keras.callbacks import EarlyStopping"
      ],
      "metadata": {
        "id": "iBLfuZOjRZ0F"
      },
      "execution_count": null,
      "outputs": []
    },
    {
      "cell_type": "code",
      "source": [
        "model.compile(optimizer='adam',\n",
        "              loss=tf.keras.losses.SparseCategoricalCrossentropy(from_logits=True),\n",
        "              metrics=['accuracy'] )\n",
        "\n",
        "history = model.fit(X_train, y_train, epochs=64, \n",
        "                    validation_data=(X_validation, y_validation),callbacks= [EarlyStopping(monitor='val_accuracy', patience=15)])"
      ],
      "metadata": {
        "colab": {
          "base_uri": "https://localhost:8080/"
        },
        "id": "AtVgFv9JTotr",
        "outputId": "0efec468-c81c-4d57-c135-780b33f82a60"
      },
      "execution_count": null,
      "outputs": [
        {
          "output_type": "stream",
          "name": "stdout",
          "text": [
            "Epoch 1/64\n"
          ]
        },
        {
          "output_type": "stream",
          "name": "stderr",
          "text": [
            "/usr/local/lib/python3.8/dist-packages/tensorflow/python/util/dispatch.py:1082: UserWarning: \"`sparse_categorical_crossentropy` received `from_logits=True`, but the `output` argument was produced by a sigmoid or softmax activation and thus does not represent logits. Was this intended?\"\n",
            "  return dispatch_target(*args, **kwargs)\n"
          ]
        },
        {
          "output_type": "stream",
          "name": "stdout",
          "text": [
            "244/244 [==============================] - 30s 117ms/step - loss: 1.9193 - accuracy: 0.3359 - val_loss: 1.7402 - val_accuracy: 0.3762\n",
            "Epoch 2/64\n",
            "244/244 [==============================] - 32s 130ms/step - loss: 1.4474 - accuracy: 0.4636 - val_loss: 1.6636 - val_accuracy: 0.4088\n",
            "Epoch 3/64\n",
            "244/244 [==============================] - 29s 117ms/step - loss: 1.3171 - accuracy: 0.5096 - val_loss: 1.5886 - val_accuracy: 0.4315\n",
            "Epoch 4/64\n",
            "244/244 [==============================] - 28s 115ms/step - loss: 1.2213 - accuracy: 0.5463 - val_loss: 1.6047 - val_accuracy: 0.4854\n",
            "Epoch 5/64\n",
            "244/244 [==============================] - 28s 114ms/step - loss: 1.1655 - accuracy: 0.5625 - val_loss: 1.5917 - val_accuracy: 0.4712\n",
            "Epoch 6/64\n",
            "244/244 [==============================] - 28s 115ms/step - loss: 1.1193 - accuracy: 0.5862 - val_loss: 1.4557 - val_accuracy: 0.4808\n",
            "Epoch 7/64\n",
            "244/244 [==============================] - 30s 123ms/step - loss: 1.0751 - accuracy: 0.6144 - val_loss: 1.4820 - val_accuracy: 0.5173\n",
            "Epoch 8/64\n",
            "244/244 [==============================] - 28s 114ms/step - loss: 1.0242 - accuracy: 0.6298 - val_loss: 1.1877 - val_accuracy: 0.5835\n",
            "Epoch 9/64\n",
            "244/244 [==============================] - 28s 114ms/step - loss: 0.9966 - accuracy: 0.6404 - val_loss: 1.2760 - val_accuracy: 0.5581\n",
            "Epoch 10/64\n",
            "244/244 [==============================] - 28s 116ms/step - loss: 0.9591 - accuracy: 0.6553 - val_loss: 1.1339 - val_accuracy: 0.5927\n",
            "Epoch 11/64\n",
            "244/244 [==============================] - 28s 116ms/step - loss: 0.9358 - accuracy: 0.6677 - val_loss: 1.0761 - val_accuracy: 0.6158\n",
            "Epoch 12/64\n",
            "244/244 [==============================] - 30s 124ms/step - loss: 0.9069 - accuracy: 0.6758 - val_loss: 1.0869 - val_accuracy: 0.6315\n",
            "Epoch 13/64\n",
            "244/244 [==============================] - 28s 115ms/step - loss: 0.8732 - accuracy: 0.6867 - val_loss: 1.2423 - val_accuracy: 0.5942\n",
            "Epoch 14/64\n",
            "244/244 [==============================] - 28s 114ms/step - loss: 0.8756 - accuracy: 0.6875 - val_loss: 1.0167 - val_accuracy: 0.6538\n",
            "Epoch 15/64\n",
            "244/244 [==============================] - 28s 116ms/step - loss: 0.8607 - accuracy: 0.6981 - val_loss: 0.9865 - val_accuracy: 0.6650\n",
            "Epoch 16/64\n",
            "244/244 [==============================] - 30s 122ms/step - loss: 0.8193 - accuracy: 0.7094 - val_loss: 0.8787 - val_accuracy: 0.7015\n",
            "Epoch 17/64\n",
            "244/244 [==============================] - 29s 118ms/step - loss: 0.8183 - accuracy: 0.7125 - val_loss: 0.9159 - val_accuracy: 0.6815\n",
            "Epoch 18/64\n",
            "244/244 [==============================] - 28s 115ms/step - loss: 0.8109 - accuracy: 0.7129 - val_loss: 1.0207 - val_accuracy: 0.6577\n",
            "Epoch 19/64\n",
            "244/244 [==============================] - 28s 115ms/step - loss: 0.7855 - accuracy: 0.7221 - val_loss: 0.9007 - val_accuracy: 0.6908\n",
            "Epoch 20/64\n",
            "244/244 [==============================] - 29s 117ms/step - loss: 0.7756 - accuracy: 0.7221 - val_loss: 0.8372 - val_accuracy: 0.7112\n",
            "Epoch 21/64\n",
            "244/244 [==============================] - 31s 126ms/step - loss: 0.7520 - accuracy: 0.7324 - val_loss: 0.8851 - val_accuracy: 0.7046\n",
            "Epoch 22/64\n",
            "244/244 [==============================] - 29s 117ms/step - loss: 0.7530 - accuracy: 0.7380 - val_loss: 0.9190 - val_accuracy: 0.6877\n",
            "Epoch 23/64\n",
            "244/244 [==============================] - 31s 127ms/step - loss: 0.7276 - accuracy: 0.7381 - val_loss: 0.8511 - val_accuracy: 0.7096\n",
            "Epoch 24/64\n",
            "244/244 [==============================] - 29s 117ms/step - loss: 0.7276 - accuracy: 0.7465 - val_loss: 0.7543 - val_accuracy: 0.7358\n",
            "Epoch 25/64\n",
            "244/244 [==============================] - 29s 117ms/step - loss: 0.7232 - accuracy: 0.7426 - val_loss: 0.8912 - val_accuracy: 0.7008\n",
            "Epoch 26/64\n",
            "244/244 [==============================] - 31s 126ms/step - loss: 0.6939 - accuracy: 0.7529 - val_loss: 0.8351 - val_accuracy: 0.7262\n",
            "Epoch 27/64\n",
            "244/244 [==============================] - 28s 116ms/step - loss: 0.6818 - accuracy: 0.7592 - val_loss: 0.7405 - val_accuracy: 0.7458\n",
            "Epoch 28/64\n",
            "244/244 [==============================] - 28s 116ms/step - loss: 0.6642 - accuracy: 0.7617 - val_loss: 0.7793 - val_accuracy: 0.7323\n",
            "Epoch 29/64\n",
            "244/244 [==============================] - 28s 115ms/step - loss: 0.6694 - accuracy: 0.7631 - val_loss: 0.8575 - val_accuracy: 0.7246\n",
            "Epoch 30/64\n",
            "244/244 [==============================] - 30s 125ms/step - loss: 0.6574 - accuracy: 0.7683 - val_loss: 0.8159 - val_accuracy: 0.7277\n",
            "Epoch 31/64\n",
            "244/244 [==============================] - 28s 116ms/step - loss: 0.6695 - accuracy: 0.7620 - val_loss: 0.7364 - val_accuracy: 0.7465\n",
            "Epoch 32/64\n",
            "244/244 [==============================] - 28s 116ms/step - loss: 0.6526 - accuracy: 0.7675 - val_loss: 0.8767 - val_accuracy: 0.7073\n",
            "Epoch 33/64\n",
            "244/244 [==============================] - 29s 117ms/step - loss: 0.6286 - accuracy: 0.7761 - val_loss: 0.8069 - val_accuracy: 0.7358\n",
            "Epoch 34/64\n",
            "244/244 [==============================] - 28s 116ms/step - loss: 0.6431 - accuracy: 0.7726 - val_loss: 0.8548 - val_accuracy: 0.7227\n",
            "Epoch 35/64\n",
            "244/244 [==============================] - 30s 124ms/step - loss: 0.6229 - accuracy: 0.7776 - val_loss: 0.7842 - val_accuracy: 0.7423\n",
            "Epoch 36/64\n",
            "244/244 [==============================] - 28s 116ms/step - loss: 0.6182 - accuracy: 0.7816 - val_loss: 0.7609 - val_accuracy: 0.7438\n",
            "Epoch 37/64\n",
            "244/244 [==============================] - 28s 116ms/step - loss: 0.5969 - accuracy: 0.7842 - val_loss: 0.7923 - val_accuracy: 0.7446\n",
            "Epoch 38/64\n",
            "244/244 [==============================] - 28s 116ms/step - loss: 0.5963 - accuracy: 0.7876 - val_loss: 0.6968 - val_accuracy: 0.7619\n",
            "Epoch 39/64\n",
            "244/244 [==============================] - 28s 116ms/step - loss: 0.5923 - accuracy: 0.7919 - val_loss: 0.6675 - val_accuracy: 0.7742\n",
            "Epoch 40/64\n",
            "244/244 [==============================] - 30s 125ms/step - loss: 0.5938 - accuracy: 0.7921 - val_loss: 0.7237 - val_accuracy: 0.7596\n",
            "Epoch 41/64\n",
            "244/244 [==============================] - 28s 116ms/step - loss: 0.5944 - accuracy: 0.7847 - val_loss: 0.7256 - val_accuracy: 0.7581\n",
            "Epoch 42/64\n",
            "244/244 [==============================] - 28s 116ms/step - loss: 0.5859 - accuracy: 0.7921 - val_loss: 0.8162 - val_accuracy: 0.7423\n",
            "Epoch 43/64\n",
            "244/244 [==============================] - 28s 117ms/step - loss: 0.5700 - accuracy: 0.7965 - val_loss: 0.6993 - val_accuracy: 0.7669\n",
            "Epoch 44/64\n",
            "244/244 [==============================] - 30s 124ms/step - loss: 0.5814 - accuracy: 0.7962 - val_loss: 0.7005 - val_accuracy: 0.7665\n",
            "Epoch 45/64\n",
            "244/244 [==============================] - 30s 124ms/step - loss: 0.5765 - accuracy: 0.7925 - val_loss: 0.6641 - val_accuracy: 0.7665\n",
            "Epoch 46/64\n",
            "244/244 [==============================] - 28s 116ms/step - loss: 0.5475 - accuracy: 0.8014 - val_loss: 0.6901 - val_accuracy: 0.7754\n",
            "Epoch 47/64\n",
            "244/244 [==============================] - 28s 116ms/step - loss: 0.5414 - accuracy: 0.8106 - val_loss: 0.7955 - val_accuracy: 0.7550\n",
            "Epoch 48/64\n",
            "244/244 [==============================] - 28s 116ms/step - loss: 0.5542 - accuracy: 0.7975 - val_loss: 0.8589 - val_accuracy: 0.7308\n",
            "Epoch 49/64\n",
            "244/244 [==============================] - 30s 124ms/step - loss: 0.5352 - accuracy: 0.8126 - val_loss: 0.7921 - val_accuracy: 0.7519\n",
            "Epoch 50/64\n",
            "244/244 [==============================] - 29s 117ms/step - loss: 0.5262 - accuracy: 0.8135 - val_loss: 0.7434 - val_accuracy: 0.7662\n",
            "Epoch 51/64\n",
            "244/244 [==============================] - 28s 116ms/step - loss: 0.5389 - accuracy: 0.8048 - val_loss: 0.6662 - val_accuracy: 0.7842\n",
            "Epoch 52/64\n",
            "244/244 [==============================] - 28s 116ms/step - loss: 0.5411 - accuracy: 0.8082 - val_loss: 0.6920 - val_accuracy: 0.7712\n",
            "Epoch 53/64\n",
            "244/244 [==============================] - 29s 117ms/step - loss: 0.5241 - accuracy: 0.8144 - val_loss: 0.6522 - val_accuracy: 0.7858\n",
            "Epoch 54/64\n",
            "244/244 [==============================] - 31s 126ms/step - loss: 0.5030 - accuracy: 0.8198 - val_loss: 0.7342 - val_accuracy: 0.7662\n",
            "Epoch 55/64\n",
            "244/244 [==============================] - 28s 115ms/step - loss: 0.5154 - accuracy: 0.8167 - val_loss: 0.6676 - val_accuracy: 0.7862\n",
            "Epoch 56/64\n",
            "244/244 [==============================] - 28s 116ms/step - loss: 0.5208 - accuracy: 0.8132 - val_loss: 0.6616 - val_accuracy: 0.7869\n",
            "Epoch 57/64\n",
            "244/244 [==============================] - 28s 116ms/step - loss: 0.5131 - accuracy: 0.8219 - val_loss: 0.6807 - val_accuracy: 0.7827\n",
            "Epoch 58/64\n",
            "244/244 [==============================] - 29s 117ms/step - loss: 0.5214 - accuracy: 0.8160 - val_loss: 0.6782 - val_accuracy: 0.7858\n",
            "Epoch 59/64\n",
            "244/244 [==============================] - 30s 124ms/step - loss: 0.4954 - accuracy: 0.8259 - val_loss: 0.6902 - val_accuracy: 0.7788\n",
            "Epoch 60/64\n",
            "244/244 [==============================] - 28s 115ms/step - loss: 0.5097 - accuracy: 0.8167 - val_loss: 0.6421 - val_accuracy: 0.7881\n",
            "Epoch 61/64\n",
            "244/244 [==============================] - 28s 116ms/step - loss: 0.4958 - accuracy: 0.8257 - val_loss: 0.7057 - val_accuracy: 0.7792\n",
            "Epoch 62/64\n",
            "244/244 [==============================] - 28s 116ms/step - loss: 0.4909 - accuracy: 0.8235 - val_loss: 0.6960 - val_accuracy: 0.7831\n",
            "Epoch 63/64\n",
            "244/244 [==============================] - 28s 117ms/step - loss: 0.4782 - accuracy: 0.8306 - val_loss: 0.6573 - val_accuracy: 0.7904\n",
            "Epoch 64/64\n",
            "244/244 [==============================] - 30s 124ms/step - loss: 0.4864 - accuracy: 0.8270 - val_loss: 0.6550 - val_accuracy: 0.7950\n"
          ]
        }
      ]
    },
    {
      "cell_type": "markdown",
      "source": [
        "Plot the model:"
      ],
      "metadata": {
        "id": "yGNx6qG8JZhn"
      }
    },
    {
      "cell_type": "code",
      "source": [
        "# Plot the model's test and train accuracy\n",
        "plt.plot(history.history[\"accuracy\"], label=\"Train accuracy\")\n",
        "plt.plot(history.history[\"val_accuracy\"], label=\"Validation accuracy\")\n",
        "plt.ylabel(\"Accuracy\")\n",
        "plt.xlabel(\"Epochs\")\n",
        "plt.title(\"Evaluation\")\n",
        "plt.legend(loc=\"lower right\")\n",
        "\n",
        "plt.show()"
      ],
      "metadata": {
        "colab": {
          "base_uri": "https://localhost:8080/",
          "height": 295
        },
        "id": "d-o-gG_YJIsU",
        "outputId": "98617dda-bef3-4c21-f0b1-ac5039299746"
      },
      "execution_count": null,
      "outputs": [
        {
          "output_type": "display_data",
          "data": {
            "text/plain": [
              "<Figure size 432x288 with 1 Axes>"
            ],
            "image/png": "[encoded data removed]"
          },
          "metadata": {
            "needs_background": "light"
          }
        }
      ]
    },
    {
      "cell_type": "markdown",
      "source": [
        "Test acccuracy:"
      ],
      "metadata": {
        "id": "73gSWk-nZpww"
      }
    },
    {
      "cell_type": "code",
      "source": [
        "test_loss, test_acc = model.evaluate(X_test, y_test)\n",
        "print('Test accuracy:', test_acc)"
      ],
      "metadata": {
        "colab": {
          "base_uri": "https://localhost:8080/"
        },
        "id": "uNTA8v8aln5e",
        "outputId": "12434794-85df-40d4-a3e0-34e722becaec"
      },
      "execution_count": null,
      "outputs": [
        {
          "output_type": "stream",
          "name": "stdout",
          "text": [
            "82/82 [==============================] - 2s 26ms/step - loss: 0.6359 - accuracy: 0.7877\n",
            "Test accuracy: 0.7876923084259033\n"
          ]
        }
      ]
    },
    {
      "cell_type": "markdown",
      "source": [
        "Validation Accuracy"
      ],
      "metadata": {
        "id": "DJbRrX67Zq0E"
      }
    },
    {
      "cell_type": "code",
      "source": [
        "validation_loss, validation_acc = model.evaluate(X_validation, y_validation)\n",
        "print('Validation accuracy:', validation_acc)"
      ],
      "metadata": {
        "colab": {
          "base_uri": "https://localhost:8080/"
        },
        "id": "P3yfrVjEtSCA",
        "outputId": "a06caa1e-d3b8-43b3-a291-44cc17c0c84b"
      },
      "execution_count": null,
      "outputs": [
        {
          "output_type": "stream",
          "name": "stdout",
          "text": [
            "82/82 [==============================] - 4s 44ms/step - loss: 0.6550 - accuracy: 0.7950\n",
            "Validation accuracy: 0.7950000166893005\n"
          ]
        }
      ]
    },
    {
      "cell_type": "markdown",
      "source": [
        "Predict a song that's outside the set.\n",
        "Pick a segment from a song."
      ],
      "metadata": {
        "id": "AWpUJ7Amlncu"
      }
    },
    {
      "cell_type": "code",
      "source": [
        "# Multiple audio files pre-processing\n",
        "\n",
        "# Librosa warnings are printed although nothing is wrong with the code,\n",
        "# https://github.com/librosa/librosa/issues/1015.\n",
        "import sys\n",
        "import warnings\n",
        "warnings.filterwarnings('ignore')\n",
        "\n",
        "\n",
        "#audio_path = \"/content/drive/MyDrive/BossaAntiguaPrediction.mp3\"\n",
        "#audio_path = \"/content/drive/MyDrive/Scott_Fields_Santa_on_a_Segway.mp3\"\n",
        "#audio_path = \"/content/drive/MyDrive/Bryan_Mathys_Wild_Heart.mp3\"\n",
        "audio_path = \"/content/drive/MyDrive/mp3tests\"\n",
        "\n",
        "prediction_array = np.array([])\n",
        "previousGenreNum = 0\n",
        "accuracy = 0\n",
        "\n",
        "# Go through genre files\n",
        "for subdir, dirs, files in os.walk(audio_path):\n",
        "\n",
        "  # Going through all the audio files in each folder (10 of each genre)\n",
        "  for file in files:\n",
        "    \n",
        "    # Get the genre name from current folder.\n",
        "    currentGenre = subdir.split(\"/\")[-1]\n",
        "    currentGenreNum = genreToNum[currentGenre]\n",
        "    \n",
        "    # Load audio file using librosa.\n",
        "    currentFile = os.path.join(subdir, file)\n",
        "    currentAudio,sampleRate = librosa.load(currentFile, sr=sampleRate)\n",
        "    XasList = []\n",
        "\n",
        "    # Go through one audio file\n",
        "    for i in range(segments):\n",
        "          # Print which audio file is currently being worked on.\n",
        "          # printMessage = f'Working on: {currentFile.split(\"/\")[6]} Segment {i}'\n",
        "          # print(printMessage)\n",
        "\n",
        "          # Calculate the start and finish points of segments.\n",
        "          start = samplePerSeg * i\n",
        "          finish = start + samplePerSeg\n",
        "\n",
        "          # Calculate mfcc of audio segment.\n",
        "          mfcc = librosa.feature.mfcc(currentAudio[start:finish], sampleRate, n_mfcc=numMFCC, n_fft=nFFT, hop_length=hopLength)\n",
        "          mfcc = mfcc.T\n",
        "\n",
        "          # Add MFCC to data only if the mfcc vector length are good\n",
        "          \n",
        "          if mfcc.shape[0] == mfccPerSeg:\n",
        "            XasList.append(mfcc.tolist())\n",
        "              \n",
        "    # Convert python list to numpy array\n",
        "    X = np.array(XasList)\n",
        "    Xprediction = X[8]\n",
        "    Xprediction = Xprediction[np.newaxis, ..., np.newaxis]\n",
        "    prediction = model.predict(Xprediction)\n",
        "    predicted_index = np.argmax(prediction, axis=1)\n",
        "\n",
        "    # We are testing to see if we are in a new genre, if we are then calculate the accuracy\n",
        "    if (previousGenreNum == currentGenreNum):\n",
        "      if predicted_index[0] == currentGenreNum:\n",
        "        accuracy += 1\n",
        "    else:\n",
        "      accuracy = accuracy / 10\n",
        "      prediction_array = np.append(prediction_array, accuracy)\n",
        "      accuracy = 0\n",
        "\n",
        "    previousGenreNum = currentGenreNum\n",
        "\n",
        "    # print(printMessage)\n",
        "    print(\"Predicted genre's number:\", predicted_index)\n",
        "\n",
        "accuracy = accuracy / 10\n",
        "prediction_array = np.append(prediction_array, accuracy)\n",
        "print(prediction_array)"
      ],
      "metadata": {
        "colab": {
          "base_uri": "https://localhost:8080/"
        },
        "id": "e0K-62Lm05tj",
        "outputId": "5aea23e5-fbe0-4ffe-d880-f5253c7382f9"
      },
      "execution_count": 51,
      "outputs": [
        {
          "output_type": "stream",
          "name": "stdout",
          "text": [
            "1/1 [==============================] - 0s 36ms/step\n",
            "Predicted genre's number: [2]\n",
            "1/1 [==============================] - 0s 25ms/step\n",
            "Predicted genre's number: [2]\n",
            "1/1 [==============================] - 0s 25ms/step\n",
            "Predicted genre's number: [2]\n",
            "1/1 [==============================] - 0s 26ms/step\n",
            "Predicted genre's number: [4]\n",
            "1/1 [==============================] - 0s 27ms/step\n",
            "Predicted genre's number: [9]\n",
            "1/1 [==============================] - 0s 34ms/step\n",
            "Predicted genre's number: [0]\n",
            "1/1 [==============================] - 0s 30ms/step\n",
            "Predicted genre's number: [9]\n",
            "1/1 [==============================] - 0s 27ms/step\n",
            "Predicted genre's number: [2]\n",
            "1/1 [==============================] - 0s 34ms/step\n",
            "Predicted genre's number: [8]\n",
            "1/1 [==============================] - 0s 29ms/step\n",
            "Predicted genre's number: [9]\n",
            "1/1 [==============================] - 0s 30ms/step\n",
            "Predicted genre's number: [5]\n",
            "1/1 [==============================] - 0s 31ms/step\n",
            "Predicted genre's number: [1]\n",
            "1/1 [==============================] - 0s 33ms/step\n",
            "Predicted genre's number: [1]\n",
            "1/1 [==============================] - 0s 33ms/step\n",
            "Predicted genre's number: [1]\n",
            "1/1 [==============================] - 0s 28ms/step\n",
            "Predicted genre's number: [1]\n",
            "1/1 [==============================] - 0s 27ms/step\n",
            "Predicted genre's number: [1]\n",
            "1/1 [==============================] - 0s 28ms/step\n",
            "Predicted genre's number: [1]\n",
            "1/1 [==============================] - 0s 31ms/step\n",
            "Predicted genre's number: [5]\n",
            "1/1 [==============================] - 0s 27ms/step\n",
            "Predicted genre's number: [2]\n",
            "1/1 [==============================] - 0s 32ms/step\n",
            "Predicted genre's number: [1]\n",
            "1/1 [==============================] - 0s 27ms/step\n",
            "Predicted genre's number: [2]\n",
            "1/1 [==============================] - 0s 30ms/step\n",
            "Predicted genre's number: [2]\n",
            "1/1 [==============================] - 0s 27ms/step\n",
            "Predicted genre's number: [6]\n",
            "1/1 [==============================] - 0s 47ms/step\n",
            "Predicted genre's number: [2]\n",
            "1/1 [==============================] - 0s 33ms/step\n",
            "Predicted genre's number: [8]\n",
            "1/1 [==============================] - 0s 36ms/step\n",
            "Predicted genre's number: [2]\n",
            "1/1 [==============================] - 0s 35ms/step\n",
            "Predicted genre's number: [2]\n",
            "1/1 [==============================] - 0s 43ms/step\n",
            "Predicted genre's number: [2]\n",
            "1/1 [==============================] - 0s 29ms/step\n",
            "Predicted genre's number: [2]\n",
            "1/1 [==============================] - 0s 31ms/step\n",
            "Predicted genre's number: [2]\n",
            "1/1 [==============================] - 0s 34ms/step\n",
            "Predicted genre's number: [8]\n",
            "1/1 [==============================] - 0s 32ms/step\n",
            "Predicted genre's number: [2]\n",
            "1/1 [==============================] - 0s 39ms/step\n",
            "Predicted genre's number: [8]\n",
            "1/1 [==============================] - 0s 32ms/step\n",
            "Predicted genre's number: [3]\n",
            "1/1 [==============================] - 0s 28ms/step\n",
            "Predicted genre's number: [8]\n",
            "1/1 [==============================] - 0s 32ms/step\n",
            "Predicted genre's number: [3]\n",
            "1/1 [==============================] - 0s 31ms/step\n",
            "Predicted genre's number: [7]\n",
            "1/1 [==============================] - 0s 27ms/step\n",
            "Predicted genre's number: [3]\n",
            "1/1 [==============================] - 0s 58ms/step\n",
            "Predicted genre's number: [2]\n",
            "1/1 [==============================] - 0s 33ms/step\n",
            "Predicted genre's number: [3]\n",
            "1/1 [==============================] - 0s 31ms/step\n",
            "Predicted genre's number: [3]\n",
            "1/1 [==============================] - 0s 28ms/step\n",
            "Predicted genre's number: [9]\n",
            "1/1 [==============================] - 0s 27ms/step\n",
            "Predicted genre's number: [3]\n",
            "1/1 [==============================] - 0s 32ms/step\n",
            "Predicted genre's number: [8]\n",
            "1/1 [==============================] - 0s 36ms/step\n",
            "Predicted genre's number: [8]\n",
            "1/1 [==============================] - 0s 36ms/step\n",
            "Predicted genre's number: [4]\n",
            "1/1 [==============================] - 0s 28ms/step\n",
            "Predicted genre's number: [8]\n",
            "1/1 [==============================] - 0s 35ms/step\n",
            "Predicted genre's number: [4]\n",
            "1/1 [==============================] - 0s 30ms/step\n",
            "Predicted genre's number: [8]\n",
            "1/1 [==============================] - 0s 29ms/step\n",
            "Predicted genre's number: [4]\n",
            "1/1 [==============================] - 0s 29ms/step\n",
            "Predicted genre's number: [5]\n",
            "1/1 [==============================] - 0s 30ms/step\n",
            "Predicted genre's number: [2]\n",
            "1/1 [==============================] - 0s 38ms/step\n",
            "Predicted genre's number: [7]\n",
            "1/1 [==============================] - 0s 28ms/step\n",
            "Predicted genre's number: [3]\n",
            "1/1 [==============================] - 0s 28ms/step\n",
            "Predicted genre's number: [9]\n",
            "1/1 [==============================] - 0s 30ms/step\n",
            "Predicted genre's number: [2]\n",
            "1/1 [==============================] - 0s 28ms/step\n",
            "Predicted genre's number: [5]\n",
            "1/1 [==============================] - 0s 34ms/step\n",
            "Predicted genre's number: [1]\n",
            "1/1 [==============================] - 0s 38ms/step\n",
            "Predicted genre's number: [2]\n",
            "1/1 [==============================] - 0s 28ms/step\n",
            "Predicted genre's number: [2]\n",
            "1/1 [==============================] - 0s 34ms/step\n",
            "Predicted genre's number: [6]\n",
            "1/1 [==============================] - 0s 28ms/step\n",
            "Predicted genre's number: [6]\n",
            "1/1 [==============================] - 0s 34ms/step\n",
            "Predicted genre's number: [6]\n",
            "1/1 [==============================] - 0s 32ms/step\n",
            "Predicted genre's number: [6]\n",
            "1/1 [==============================] - 0s 35ms/step\n",
            "Predicted genre's number: [6]\n",
            "1/1 [==============================] - 0s 32ms/step\n",
            "Predicted genre's number: [6]\n",
            "1/1 [==============================] - 0s 27ms/step\n",
            "Predicted genre's number: [6]\n",
            "1/1 [==============================] - 0s 32ms/step\n",
            "Predicted genre's number: [9]\n",
            "1/1 [==============================] - 0s 36ms/step\n",
            "Predicted genre's number: [1]\n",
            "1/1 [==============================] - 0s 34ms/step\n",
            "Predicted genre's number: [2]\n",
            "1/1 [==============================] - 0s 30ms/step\n",
            "Predicted genre's number: [2]\n",
            "1/1 [==============================] - 0s 26ms/step\n",
            "Predicted genre's number: [8]\n",
            "1/1 [==============================] - 0s 33ms/step\n",
            "Predicted genre's number: [9]\n",
            "1/1 [==============================] - 0s 86ms/step\n",
            "Predicted genre's number: [4]\n",
            "1/1 [==============================] - 0s 53ms/step\n",
            "Predicted genre's number: [2]\n",
            "1/1 [==============================] - 0s 35ms/step\n",
            "Predicted genre's number: [4]\n",
            "1/1 [==============================] - 0s 60ms/step\n",
            "Predicted genre's number: [2]\n",
            "1/1 [==============================] - 0s 33ms/step\n",
            "Predicted genre's number: [8]\n",
            "1/1 [==============================] - 0s 34ms/step\n",
            "Predicted genre's number: [2]\n",
            "1/1 [==============================] - 0s 37ms/step\n",
            "Predicted genre's number: [6]\n",
            "1/1 [==============================] - 0s 38ms/step\n",
            "Predicted genre's number: [8]\n",
            "1/1 [==============================] - 0s 29ms/step\n",
            "Predicted genre's number: [8]\n",
            "1/1 [==============================] - 0s 29ms/step\n",
            "Predicted genre's number: [4]\n",
            "1/1 [==============================] - 0s 29ms/step\n",
            "Predicted genre's number: [8]\n",
            "1/1 [==============================] - 0s 38ms/step\n",
            "Predicted genre's number: [3]\n",
            "1/1 [==============================] - 0s 34ms/step\n",
            "Predicted genre's number: [9]\n",
            "1/1 [==============================] - 0s 29ms/step\n",
            "Predicted genre's number: [8]\n",
            "1/1 [==============================] - 0s 33ms/step\n",
            "Predicted genre's number: [8]\n",
            "1/1 [==============================] - 0s 28ms/step\n",
            "Predicted genre's number: [4]\n",
            "1/1 [==============================] - 0s 27ms/step\n",
            "Predicted genre's number: [8]\n",
            "1/1 [==============================] - 0s 26ms/step\n",
            "Predicted genre's number: [3]\n",
            "1/1 [==============================] - 0s 27ms/step\n",
            "Predicted genre's number: [2]\n",
            "1/1 [==============================] - 0s 31ms/step\n",
            "Predicted genre's number: [6]\n",
            "1/1 [==============================] - 0s 27ms/step\n",
            "Predicted genre's number: [9]\n",
            "1/1 [==============================] - 0s 27ms/step\n",
            "Predicted genre's number: [9]\n",
            "1/1 [==============================] - 0s 33ms/step\n",
            "Predicted genre's number: [2]\n",
            "1/1 [==============================] - 0s 28ms/step\n",
            "Predicted genre's number: [2]\n",
            "1/1 [==============================] - 0s 29ms/step\n",
            "Predicted genre's number: [3]\n",
            "1/1 [==============================] - 0s 27ms/step\n",
            "Predicted genre's number: [2]\n",
            "1/1 [==============================] - 0s 35ms/step\n",
            "Predicted genre's number: [0]\n",
            "1/1 [==============================] - 0s 27ms/step\n",
            "Predicted genre's number: [9]\n",
            "[0.1 0.7 0.7 0.4 0.3 0.1 0.6 0.  0.5 0.3]\n"
          ]
        }
      ]
    },
    {
      "cell_type": "markdown",
      "source": [
        "genreToNum = {\n",
        "      \"blues\":0,\n",
        "      \"classical\":1,\n",
        "      \"country\":2,\n",
        "      \"disco\":3,\n",
        "      \"hiphop\":4,\n",
        "      \"jazz\" :5,\n",
        "      \"metal\" :6,\n",
        "      \"pop\" :7,\n",
        "      \"reggae\" :8,\n",
        "      \"rock\" :9\n",
        "  }"
      ],
      "metadata": {
        "id": "JYU8OVjtDn-u"
      }
    },
    {
      "cell_type": "code",
      "source": [
        "# Single Audio File Pre-processing\n",
        "\n",
        "audio_path = \"/content/drive/MyDrive/mp3tests/jazz/BossaAntiguaPrediction.mp3\"\n",
        "# audio_path = \"/content/drive/MyDrive/mp3tests/jazz/Scott Fields - Santa on a Segway\"\n",
        "#audio_path = \"/content/drive/MyDrive/Bryan_Mathys_Wild_Heart.mp3\"\n",
        "#audio_path = \"/content/drive/MyDrive/IMLC_Messiah_for_Hire.mp3\"\n",
        "\n",
        "currentAudio,sampleRate = librosa.load(audio_path, sr=sampleRate)\n",
        "XasList = []\n",
        "\n",
        "  # Go through one audio file\n",
        "for i in range(segments):\n",
        "\n",
        "      # Print which audio file is currently being worked on.\n",
        "              printMessage = f'Working on: {audio_path.split(\"/\")[6]} Segment {i}'\n",
        "              print(printMessage)\n",
        "\n",
        "              # Calculate the start and finish points of segments.\n",
        "              start = samplePerSeg * i\n",
        "              finish = start + samplePerSeg\n",
        "\n",
        "              # Calculate mfcc of audio segment.\n",
        "              mfcc = librosa.feature.mfcc(currentAudio[start:finish], sampleRate, n_mfcc=numMFCC, n_fft=nFFT, hop_length=hopLength)\n",
        "              mfcc = mfcc.T\n",
        "\n",
        "              # Add MFCC to data only if the mfcc vector length are good\n",
        "              \n",
        "              if mfcc.shape[0] == mfccPerSeg:\n",
        "                XasList.append(mfcc.tolist())\n",
        "          \n",
        "  # Convert python list to numpy array\n",
        "X = np.array(XasList)\n",
        "\n",
        "\n",
        "\n",
        "\n",
        "Xprediction = X[8]\n",
        "Xprediction = Xprediction[np.newaxis, ..., np.newaxis]\n",
        "prediction = model.predict(Xprediction)\n",
        "predicted_index = np.argmax(prediction, axis=1)\n",
        "print(printMessage)\n",
        "print(\"Predicted genre's number:\", predicted_index)"
      ],
      "metadata": {
        "id": "zN5Ke2K-GlTH"
      },
      "execution_count": null,
      "outputs": []
    }
  ]
}